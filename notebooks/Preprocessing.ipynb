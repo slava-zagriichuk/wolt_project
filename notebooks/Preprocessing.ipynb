{
 "cells": [
  {
   "cell_type": "markdown",
   "id": "9ab378d8",
   "metadata": {},
   "source": [
    "## PREPROCESSING\n",
    "\n",
    "1. Parse dates.\n",
    "2. Interpolate missing weather conditions data.\n",
    "3. Find anomalies in couriers online, save them to the distinct file and then change values to interpolated (to save the date order).\n",
    "4. Extract Day names out of date column.\n",
    "5. Create Day type ordinal variable out of day names (0, 1, 2 for three groups ordered by mean).\n",
    "6. Normalization of feature numeric variables"
   ]
  },
  {
   "cell_type": "code",
   "execution_count": 1,
   "id": "bb41b6ca",
   "metadata": {},
   "outputs": [],
   "source": [
    "# Common imports\n",
    "import pandas as pd\n",
    "import numpy as np\n",
    "import sys\n",
    "from sklearn.preprocessing import MinMaxScaler"
   ]
  },
  {
   "cell_type": "code",
   "execution_count": 2,
   "id": "e0c06d36",
   "metadata": {},
   "outputs": [],
   "source": [
    "# Custom imports\n",
    "\n",
    "# Add the chosen directory to the Python path\n",
    "chosen_directory = '../src/'\n",
    "sys.path.append(chosen_directory)\n",
    "\n",
    "from data_preprocessing import (handle_missing_values, show_outliers, handle_outliers, \n",
    "                                extract_day_category, extract_days_from_beginning)"
   ]
  },
  {
   "cell_type": "markdown",
   "id": "c849d1b7",
   "metadata": {},
   "source": [
    "## Load dataset"
   ]
  },
  {
   "cell_type": "code",
   "execution_count": 3,
   "id": "62d6a0f4",
   "metadata": {},
   "outputs": [],
   "source": [
    "# Define the file path\n",
    "raw_data_path = '../data/raw/daily_cp_activity_dataset.csv'\n",
    "\n",
    "# Load the dataset\n",
    "df = pd.read_csv(raw_data_path)"
   ]
  },
  {
   "cell_type": "markdown",
   "id": "1ba8670f",
   "metadata": {},
   "source": [
    "## Data overview"
   ]
  },
  {
   "cell_type": "code",
   "execution_count": 4,
   "id": "1a93dab0",
   "metadata": {},
   "outputs": [
    {
     "data": {
      "text/html": [
       "<div>\n",
       "<style scoped>\n",
       "    .dataframe tbody tr th:only-of-type {\n",
       "        vertical-align: middle;\n",
       "    }\n",
       "\n",
       "    .dataframe tbody tr th {\n",
       "        vertical-align: top;\n",
       "    }\n",
       "\n",
       "    .dataframe thead th {\n",
       "        text-align: right;\n",
       "    }\n",
       "</style>\n",
       "<table border=\"1\" class=\"dataframe\">\n",
       "  <thead>\n",
       "    <tr style=\"text-align: right;\">\n",
       "      <th></th>\n",
       "      <th>date</th>\n",
       "      <th>courier_partners_online</th>\n",
       "      <th>temperature</th>\n",
       "      <th>relative_humidity</th>\n",
       "      <th>precipitation</th>\n",
       "    </tr>\n",
       "  </thead>\n",
       "  <tbody>\n",
       "    <tr>\n",
       "      <th>0</th>\n",
       "      <td>2021-05-01</td>\n",
       "      <td>49</td>\n",
       "      <td>18.27</td>\n",
       "      <td>0.57</td>\n",
       "      <td>0.0</td>\n",
       "    </tr>\n",
       "    <tr>\n",
       "      <th>1</th>\n",
       "      <td>2021-05-02</td>\n",
       "      <td>927</td>\n",
       "      <td>19.88</td>\n",
       "      <td>0.55</td>\n",
       "      <td>0.0</td>\n",
       "    </tr>\n",
       "    <tr>\n",
       "      <th>2</th>\n",
       "      <td>2021-05-03</td>\n",
       "      <td>40</td>\n",
       "      <td>16.88</td>\n",
       "      <td>0.60</td>\n",
       "      <td>0.0</td>\n",
       "    </tr>\n",
       "    <tr>\n",
       "      <th>3</th>\n",
       "      <td>2021-05-04</td>\n",
       "      <td>51</td>\n",
       "      <td>21.88</td>\n",
       "      <td>0.53</td>\n",
       "      <td>0.0</td>\n",
       "    </tr>\n",
       "    <tr>\n",
       "      <th>4</th>\n",
       "      <td>2021-05-05</td>\n",
       "      <td>50</td>\n",
       "      <td>21.11</td>\n",
       "      <td>0.54</td>\n",
       "      <td>0.0</td>\n",
       "    </tr>\n",
       "  </tbody>\n",
       "</table>\n",
       "</div>"
      ],
      "text/plain": [
       "         date  courier_partners_online  temperature  relative_humidity  \\\n",
       "0  2021-05-01                       49        18.27               0.57   \n",
       "1  2021-05-02                      927        19.88               0.55   \n",
       "2  2021-05-03                       40        16.88               0.60   \n",
       "3  2021-05-04                       51        21.88               0.53   \n",
       "4  2021-05-05                       50        21.11               0.54   \n",
       "\n",
       "   precipitation  \n",
       "0            0.0  \n",
       "1            0.0  \n",
       "2            0.0  \n",
       "3            0.0  \n",
       "4            0.0  "
      ]
     },
     "execution_count": 4,
     "metadata": {},
     "output_type": "execute_result"
    }
   ],
   "source": [
    "# Data Overview\n",
    "df.head()"
   ]
  },
  {
   "cell_type": "code",
   "execution_count": 5,
   "id": "3da18df4",
   "metadata": {},
   "outputs": [
    {
     "name": "stdout",
     "output_type": "stream",
     "text": [
      "<class 'pandas.core.frame.DataFrame'>\n",
      "RangeIndex: 761 entries, 0 to 760\n",
      "Data columns (total 5 columns):\n",
      " #   Column                   Non-Null Count  Dtype  \n",
      "---  ------                   --------------  -----  \n",
      " 0   date                     761 non-null    object \n",
      " 1   courier_partners_online  761 non-null    int64  \n",
      " 2   temperature              731 non-null    float64\n",
      " 3   relative_humidity        761 non-null    float64\n",
      " 4   precipitation            756 non-null    float64\n",
      "dtypes: float64(3), int64(1), object(1)\n",
      "memory usage: 29.9+ KB\n"
     ]
    }
   ],
   "source": [
    "df.info()"
   ]
  },
  {
   "cell_type": "code",
   "execution_count": 6,
   "id": "ebe9757b",
   "metadata": {},
   "outputs": [
    {
     "data": {
      "text/html": [
       "<div>\n",
       "<style scoped>\n",
       "    .dataframe tbody tr th:only-of-type {\n",
       "        vertical-align: middle;\n",
       "    }\n",
       "\n",
       "    .dataframe tbody tr th {\n",
       "        vertical-align: top;\n",
       "    }\n",
       "\n",
       "    .dataframe thead th {\n",
       "        text-align: right;\n",
       "    }\n",
       "</style>\n",
       "<table border=\"1\" class=\"dataframe\">\n",
       "  <thead>\n",
       "    <tr style=\"text-align: right;\">\n",
       "      <th></th>\n",
       "      <th>courier_partners_online</th>\n",
       "      <th>temperature</th>\n",
       "      <th>relative_humidity</th>\n",
       "      <th>precipitation</th>\n",
       "    </tr>\n",
       "  </thead>\n",
       "  <tbody>\n",
       "    <tr>\n",
       "      <th>count</th>\n",
       "      <td>761.000000</td>\n",
       "      <td>731.000000</td>\n",
       "      <td>761.000000</td>\n",
       "      <td>756.000000</td>\n",
       "    </tr>\n",
       "    <tr>\n",
       "      <th>mean</th>\n",
       "      <td>72.417871</td>\n",
       "      <td>17.532585</td>\n",
       "      <td>0.653193</td>\n",
       "      <td>0.914735</td>\n",
       "    </tr>\n",
       "    <tr>\n",
       "      <th>std</th>\n",
       "      <td>96.039679</td>\n",
       "      <td>10.007564</td>\n",
       "      <td>0.171553</td>\n",
       "      <td>1.749988</td>\n",
       "    </tr>\n",
       "    <tr>\n",
       "      <th>min</th>\n",
       "      <td>34.000000</td>\n",
       "      <td>-9.980000</td>\n",
       "      <td>0.430000</td>\n",
       "      <td>0.000000</td>\n",
       "    </tr>\n",
       "    <tr>\n",
       "      <th>25%</th>\n",
       "      <td>58.000000</td>\n",
       "      <td>10.930000</td>\n",
       "      <td>0.520000</td>\n",
       "      <td>0.000000</td>\n",
       "    </tr>\n",
       "    <tr>\n",
       "      <th>50%</th>\n",
       "      <td>66.000000</td>\n",
       "      <td>18.630000</td>\n",
       "      <td>0.590000</td>\n",
       "      <td>0.000000</td>\n",
       "    </tr>\n",
       "    <tr>\n",
       "      <th>75%</th>\n",
       "      <td>72.000000</td>\n",
       "      <td>24.410000</td>\n",
       "      <td>0.790000</td>\n",
       "      <td>0.910000</td>\n",
       "    </tr>\n",
       "    <tr>\n",
       "      <th>max</th>\n",
       "      <td>1506.000000</td>\n",
       "      <td>37.950000</td>\n",
       "      <td>1.000000</td>\n",
       "      <td>12.900000</td>\n",
       "    </tr>\n",
       "  </tbody>\n",
       "</table>\n",
       "</div>"
      ],
      "text/plain": [
       "       courier_partners_online  temperature  relative_humidity  precipitation\n",
       "count               761.000000   731.000000         761.000000     756.000000\n",
       "mean                 72.417871    17.532585           0.653193       0.914735\n",
       "std                  96.039679    10.007564           0.171553       1.749988\n",
       "min                  34.000000    -9.980000           0.430000       0.000000\n",
       "25%                  58.000000    10.930000           0.520000       0.000000\n",
       "50%                  66.000000    18.630000           0.590000       0.000000\n",
       "75%                  72.000000    24.410000           0.790000       0.910000\n",
       "max                1506.000000    37.950000           1.000000      12.900000"
      ]
     },
     "execution_count": 6,
     "metadata": {},
     "output_type": "execute_result"
    }
   ],
   "source": [
    "df.describe()"
   ]
  },
  {
   "cell_type": "markdown",
   "id": "b75e787a",
   "metadata": {},
   "source": [
    "___\n",
    "## PREPROCESSING PIPELINE\n",
    "---"
   ]
  },
  {
   "cell_type": "markdown",
   "id": "3bbc65cf",
   "metadata": {},
   "source": [
    "### Parse dates"
   ]
  },
  {
   "cell_type": "code",
   "execution_count": 7,
   "id": "086689f1",
   "metadata": {},
   "outputs": [],
   "source": [
    "# Parse dates\n",
    "df['date'] = pd.to_datetime(df['date'])"
   ]
  },
  {
   "cell_type": "markdown",
   "id": "4d4b8e77",
   "metadata": {},
   "source": [
    "### Handling missing values"
   ]
  },
  {
   "cell_type": "code",
   "execution_count": 8,
   "id": "36e19b4b",
   "metadata": {},
   "outputs": [
    {
     "name": "stdout",
     "output_type": "stream",
     "text": [
      "Missing values handled using interpolation method: linear\n",
      "Missing values handled using interpolation method: linear\n"
     ]
    }
   ],
   "source": [
    "# Compare length of each column with df length and fill in interpolations\n",
    "for column in df.columns:\n",
    "    if df[column].isna().any():\n",
    "        df[column] = handle_missing_values(df[column])"
   ]
  },
  {
   "cell_type": "markdown",
   "id": "9d657ae1",
   "metadata": {},
   "source": [
    "### Handling outliers"
   ]
  },
  {
   "cell_type": "code",
   "execution_count": 9,
   "id": "25570b01",
   "metadata": {},
   "outputs": [
    {
     "name": "stdout",
     "output_type": "stream",
     "text": [
      "There are outliers in column: courier_partners_online over threshold 93.0\n",
      "There are outliers in column: precipitation over threshold 2.275\n"
     ]
    }
   ],
   "source": [
    "# Find outliers and keep dataframes with them in the dictionary\n",
    "outliers = {}\n",
    "\n",
    "for column in df.columns:\n",
    "    outliers[column] = show_outliers(df, column)"
   ]
  },
  {
   "cell_type": "markdown",
   "id": "8fd61244",
   "metadata": {},
   "source": [
    "Ignore precipitation because of specific distribution, take a look on courier_partners_online"
   ]
  },
  {
   "cell_type": "code",
   "execution_count": 12,
   "id": "5d970b76",
   "metadata": {},
   "outputs": [
    {
     "data": {
      "text/html": [
       "<div>\n",
       "<style scoped>\n",
       "    .dataframe tbody tr th:only-of-type {\n",
       "        vertical-align: middle;\n",
       "    }\n",
       "\n",
       "    .dataframe tbody tr th {\n",
       "        vertical-align: top;\n",
       "    }\n",
       "\n",
       "    .dataframe thead th {\n",
       "        text-align: right;\n",
       "    }\n",
       "</style>\n",
       "<table border=\"1\" class=\"dataframe\">\n",
       "  <thead>\n",
       "    <tr style=\"text-align: right;\">\n",
       "      <th></th>\n",
       "      <th>date</th>\n",
       "      <th>courier_partners_online</th>\n",
       "      <th>temperature</th>\n",
       "      <th>relative_humidity</th>\n",
       "      <th>precipitation</th>\n",
       "    </tr>\n",
       "  </thead>\n",
       "  <tbody>\n",
       "    <tr>\n",
       "      <th>1</th>\n",
       "      <td>2021-05-02</td>\n",
       "      <td>927</td>\n",
       "      <td>19.88</td>\n",
       "      <td>0.55</td>\n",
       "      <td>0.00</td>\n",
       "    </tr>\n",
       "    <tr>\n",
       "      <th>138</th>\n",
       "      <td>2021-09-16</td>\n",
       "      <td>1367</td>\n",
       "      <td>30.68</td>\n",
       "      <td>0.46</td>\n",
       "      <td>0.00</td>\n",
       "    </tr>\n",
       "    <tr>\n",
       "      <th>269</th>\n",
       "      <td>2022-01-25</td>\n",
       "      <td>1176</td>\n",
       "      <td>-2.61</td>\n",
       "      <td>0.92</td>\n",
       "      <td>0.84</td>\n",
       "    </tr>\n",
       "    <tr>\n",
       "      <th>326</th>\n",
       "      <td>2022-03-23</td>\n",
       "      <td>1506</td>\n",
       "      <td>22.81</td>\n",
       "      <td>0.55</td>\n",
       "      <td>0.00</td>\n",
       "    </tr>\n",
       "    <tr>\n",
       "      <th>635</th>\n",
       "      <td>2023-01-26</td>\n",
       "      <td>1175</td>\n",
       "      <td>-1.88</td>\n",
       "      <td>0.92</td>\n",
       "      <td>0.85</td>\n",
       "    </tr>\n",
       "  </tbody>\n",
       "</table>\n",
       "</div>"
      ],
      "text/plain": [
       "          date  courier_partners_online  temperature  relative_humidity  \\\n",
       "1   2021-05-02                      927        19.88               0.55   \n",
       "138 2021-09-16                     1367        30.68               0.46   \n",
       "269 2022-01-25                     1176        -2.61               0.92   \n",
       "326 2022-03-23                     1506        22.81               0.55   \n",
       "635 2023-01-26                     1175        -1.88               0.92   \n",
       "\n",
       "     precipitation  \n",
       "1             0.00  \n",
       "138           0.00  \n",
       "269           0.84  \n",
       "326           0.00  \n",
       "635           0.85  "
      ]
     },
     "execution_count": 12,
     "metadata": {},
     "output_type": "execute_result"
    }
   ],
   "source": [
    "# Show outliers for couriers online\n",
    "outliers['courier_partners_online']"
   ]
  },
  {
   "cell_type": "code",
   "execution_count": 13,
   "id": "958d5d8e",
   "metadata": {},
   "outputs": [],
   "source": [
    "# Optionally save outliers to file\n",
    "# Define file path\n",
    "outliers_file_path = '../data/processed/anomalies.csv'\n",
    "\n",
    "# Save to the file\n",
    "outliers['courier_partners_online'].to_csv(outliers_file_path)"
   ]
  },
  {
   "cell_type": "code",
   "execution_count": 11,
   "id": "55030e11",
   "metadata": {},
   "outputs": [
    {
     "name": "stdout",
     "output_type": "stream",
     "text": [
      "Outliers handled using threshold: 93.0\n"
     ]
    }
   ],
   "source": [
    "# Handle outliers on courier_partners_online\n",
    "df['courier_partners_online'] = handle_outliers(\n",
    "    data=df,\n",
    "    column='courier_partners_online',\n",
    "    replacement_strategy='interpolate'\n",
    ")"
   ]
  },
  {
   "cell_type": "markdown",
   "id": "64cd9d7d",
   "metadata": {},
   "source": [
    "### Extracting extra features"
   ]
  },
  {
   "cell_type": "code",
   "execution_count": 14,
   "id": "695ac781",
   "metadata": {},
   "outputs": [
    {
     "name": "stdout",
     "output_type": "stream",
     "text": [
      "Day categories extracted successfully from the Series\n"
     ]
    }
   ],
   "source": [
    "# Add day category feature\n",
    "df['day_category'] = extract_day_category(df['date'])\n",
    "\n",
    "# Add days from beginning feature\n",
    "df['day_from_beginning'] = extract_days_from_beginning(df['date'])"
   ]
  },
  {
   "cell_type": "markdown",
   "id": "7501e275",
   "metadata": {},
   "source": [
    "### Normalization"
   ]
  },
  {
   "cell_type": "code",
   "execution_count": 15,
   "id": "9cfaad44",
   "metadata": {},
   "outputs": [],
   "source": [
    "# Specify numerical columns for scaling\n",
    "numerical_columns = ['temperature', 'relative_humidity', 'precipitation']\n",
    "\n",
    "# Create a MinMaxScaler instance\n",
    "scaler = MinMaxScaler()\n",
    "\n",
    "# Fit and transform the selected columns\n",
    "df[numerical_columns] = scaler.fit_transform(df[numerical_columns])"
   ]
  },
  {
   "cell_type": "markdown",
   "id": "a1b95ff6",
   "metadata": {},
   "source": [
    "### Save to file"
   ]
  },
  {
   "cell_type": "code",
   "execution_count": 16,
   "id": "354bb97c",
   "metadata": {},
   "outputs": [],
   "source": [
    "# Define path for processed file\n",
    "file_path = \"../data/processed/daily_cp_activity_processed.csv\"\n",
    "\n",
    "# Save the dataframe to csv file\n",
    "df.to_csv(file_path)"
   ]
  }
 ],
 "metadata": {
  "kernelspec": {
   "display_name": "Python 3 (ipykernel)",
   "language": "python",
   "name": "python3"
  },
  "language_info": {
   "codemirror_mode": {
    "name": "ipython",
    "version": 3
   },
   "file_extension": ".py",
   "mimetype": "text/x-python",
   "name": "python",
   "nbconvert_exporter": "python",
   "pygments_lexer": "ipython3",
   "version": "3.9.18"
  }
 },
 "nbformat": 4,
 "nbformat_minor": 5
}
